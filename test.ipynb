{
  "cells": [
    {
      "cell_type": "markdown",
      "id": "e61b19e3",
      "metadata": {
        "id": "e61b19e3"
      },
      "source": [
        "# testing"
      ]
    },
    {
      "cell_type": "code",
      "execution_count": null,
      "id": "2c921f54",
      "metadata": {
        "id": "2c921f54",
        "outputId": "12f2f5ee-d7a0-4a68-bb8c-b574cdbde055"
      },
      "outputs": [
        {
          "name": "stdout",
          "output_type": "stream",
          "text": [
            "Hello World!\n"
          ]
        }
      ],
      "source": [
        "print('Hello World!')"
      ]
    },
    {
      "cell_type": "markdown",
      "source": [
        "# testing"
      ],
      "metadata": {
        "id": "euQ6SaM4NmJY"
      },
      "id": "euQ6SaM4NmJY"
    },
    {
      "cell_type": "code",
      "source": [
        "print('Hello World!')"
      ],
      "metadata": {
        "id": "D5t3-L7XNoLI",
        "outputId": "3c437011-7d15-4870-df49-d1e5c5d333f0",
        "colab": {
          "base_uri": "https://localhost:8080/"
        }
      },
      "id": "D5t3-L7XNoLI",
      "execution_count": 1,
      "outputs": [
        {
          "output_type": "stream",
          "name": "stdout",
          "text": [
            "Hello World!\n"
          ]
        }
      ]
    }
  ],
  "metadata": {
    "kernelspec": {
      "display_name": "Python 3",
      "language": "python",
      "name": "python3"
    },
    "language_info": {
      "codemirror_mode": {
        "name": "ipython",
        "version": 3
      },
      "file_extension": ".py",
      "mimetype": "text/x-python",
      "name": "python",
      "nbconvert_exporter": "python",
      "pygments_lexer": "ipython3",
      "version": "3.13.1"
    },
    "colab": {
      "provenance": []
    }
  },
  "nbformat": 4,
  "nbformat_minor": 5
}